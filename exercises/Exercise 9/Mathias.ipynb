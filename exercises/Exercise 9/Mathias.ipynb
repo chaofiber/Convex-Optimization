{
 "cells": [
  {
   "cell_type": "code",
   "execution_count": 1,
   "metadata": {},
   "outputs": [],
   "source": [
    "import numpy as np\n",
    "import pandas as pd\n",
    "import cvxpy as cp"
   ]
  },
  {
   "cell_type": "markdown",
   "metadata": {},
   "source": [
    "# (a) Optimum of LS problem\n",
    "Let $g(x)=||\\tilde{y}-y||_2^2$, then we have $\\nabla g(x)=-2H^T\\tilde{y}-Hx=0$ and $\\nabla^2 g(x)=2H^TH>0$, which leads to the solution of question: \n",
    "\n",
    "$$ \\hat{x}=(H^TH)^{-1}H^T\\tilde{y} $$\n",
    "\n",
    "which is the optimum of the solution."
   ]
  },
  {
   "cell_type": "markdown",
   "metadata": {},
   "source": [
    "# (b) return the matrix of H"
   ]
  },
  {
   "cell_type": "code",
   "execution_count": 2,
   "metadata": {},
   "outputs": [],
   "source": [
    "def matrix_return(t,theta):\n",
    "    H = []\n",
    "    for i in range(len(theta)):\n",
    "        H.append(np.cos(theta[i]*t))\n",
    "    return np.transpose(H)"
   ]
  },
  {
   "cell_type": "markdown",
   "metadata": {},
   "source": [
    "# (c)\n",
    "## Aronson’s sequence"
   ]
  },
  {
   "cell_type": "code",
   "execution_count": 3,
   "metadata": {},
   "outputs": [
    {
     "name": "stdout",
     "output_type": "stream",
     "text": [
      "residual error: 2046.298989299373\n"
     ]
    }
   ],
   "source": [
    "y_tilde_data = pd.read_csv('mathias_distress_call_1.csv')\n",
    "y_tilde = y_tilde_data.values\n",
    "y_tilde_data_2 = pd.read_csv('mathias_distress_call_2.csv')\n",
    "y_tilde_2 = y_tilde_data_2.values\n",
    "\n",
    "dt = 1.0/8192\n",
    "t = np.arange(0,len(y_tilde)*dt,dt)\n",
    "theta = [104, 111, 116, 122, 126, 131, 136, 142, 147, 158, 164, 169, \n",
    "         174, 181, 183, 193, 199, 205, 208, 214, 220, 226, 231, 237, \n",
    "         243, 249, 254]\n",
    "\n",
    "H = matrix_return(t,theta)\n",
    "x_hat_i = np.linalg.solve(np.dot(np.transpose(H),H),np.dot(np.transpose(H),y_tilde))\n",
    "print('residual error:', np.linalg.norm(y_tilde-np.dot(H,x_hat_i)))"
   ]
  },
  {
   "cell_type": "markdown",
   "metadata": {},
   "source": [
    "## Mathias own musical scale"
   ]
  },
  {
   "cell_type": "code",
   "execution_count": 4,
   "metadata": {},
   "outputs": [
    {
     "name": "stdout",
     "output_type": "stream",
     "text": [
      "residual error: 1963.530567863447\n"
     ]
    }
   ],
   "source": [
    "theta = np.arange(311.127, 311.127+311.127,311.127/27)\n",
    "H = matrix_return(t,theta)\n",
    "x_hat_ii = np.linalg.solve(np.dot(np.transpose(H),H),np.dot(np.transpose(H),y_tilde))\n",
    "print('residual error:', np.linalg.norm(y_tilde-np.dot(H,x_hat_ii)))"
   ]
  },
  {
   "cell_type": "markdown",
   "metadata": {},
   "source": [
    "## \"Fibonacci-on-steroids\" sequence"
   ]
  },
  {
   "cell_type": "code",
   "execution_count": 5,
   "metadata": {},
   "outputs": [
    {
     "name": "stdout",
     "output_type": "stream",
     "text": [
      "residual error: 983.5818503735173\n"
     ]
    }
   ],
   "source": [
    "theta = np.zeros(27)\n",
    "theta[0] = 150\n",
    "theta[1] = 175\n",
    "for i in range(25):\n",
    "    theta[i+2] = np.ceil(0.5*theta[i+1])+np.ceil(0.8*theta[i])\n",
    "H = matrix_return(t,theta)\n",
    "x_hat_iii = np.linalg.solve(np.dot(np.transpose(H),H),np.dot(np.transpose(H),y_tilde))\n",
    "print('residual error:', np.linalg.norm(y_tilde-np.dot(H,x_hat_iii)))"
   ]
  },
  {
   "cell_type": "markdown",
   "metadata": {},
   "source": [
    "Based on the residual error, we know \"Fibonacci-on-steroids\" sequences works the best. We find from the solution that some values are very close to zero. We round the solution and find that this solution is sparse and only $a_5$, $a_7$, $a_8$, $a_{18}$, $a_{19}$, $a_{20}$, $a_{21}$, $a_{27}$ are nonzero, these values are printed below. Therefore, the message only contains the frequency of $\\theta_5$, $\\theta_7$, $\\theta_8$, $\\theta_{18}$, $\\theta_{19}$, $\\theta_{20}$, $\\theta_{21}$, $\\theta_{27}$"
   ]
  },
  {
   "cell_type": "code",
   "execution_count": 6,
   "metadata": {},
   "outputs": [
    {
     "name": "stdout",
     "output_type": "stream",
     "text": [
      "(integer) amplitudes of existing frequencies: [2. 6. 3. 4. 1. 7. 6. 1.]\n"
     ]
    }
   ],
   "source": [
    "round_ = np.rint(x_hat_iii)\n",
    "print('(integer) amplitudes of existing frequencies:',round_[round_.nonzero()])"
   ]
  },
  {
   "cell_type": "markdown",
   "metadata": {},
   "source": [
    "# (d)\n",
    "Based on encoding rules, and to make the message meaningful, I believe the message is \"Sehr Gut\""
   ]
  },
  {
   "cell_type": "markdown",
   "metadata": {},
   "source": [
    "# (e) \n",
    "\n",
    "## hello"
   ]
  },
  {
   "cell_type": "code",
   "execution_count": null,
   "metadata": {},
   "outputs": [],
   "source": [
    "lambd = 0.0\n",
    "x_cp = cp.Variable(27)\n",
    "obj = cp.Minimize(cp.sum_squares(H @ x_cp - y_tilde[:,0]) + lambd * cp.norm(x_cp,1))\n",
    "prob = cp.Problem(obj)\n",
    "prob.solve()\n",
    "print(\"status:\", prob.status)\n",
    "print(\"optimal value\", prob.value)"
   ]
  },
  {
   "cell_type": "code",
   "execution_count": 16,
   "metadata": {},
   "outputs": [
    {
     "data": {
      "text/plain": [
       "(40960,)"
      ]
     },
     "execution_count": 16,
     "metadata": {},
     "output_type": "execute_result"
    }
   ],
   "source": []
  },
  {
   "cell_type": "code",
   "execution_count": null,
   "metadata": {},
   "outputs": [],
   "source": []
  }
 ],
 "metadata": {
  "kernelspec": {
   "display_name": "Python 3",
   "language": "python",
   "name": "python3"
  },
  "language_info": {
   "codemirror_mode": {
    "name": "ipython",
    "version": 3
   },
   "file_extension": ".py",
   "mimetype": "text/x-python",
   "name": "python",
   "nbconvert_exporter": "python",
   "pygments_lexer": "ipython3",
   "version": "3.7.1"
  }
 },
 "nbformat": 4,
 "nbformat_minor": 2
}
