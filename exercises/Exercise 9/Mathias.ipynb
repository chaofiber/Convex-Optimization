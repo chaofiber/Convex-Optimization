{
 "cells": [
  {
   "cell_type": "code",
   "execution_count": 109,
   "metadata": {},
   "outputs": [],
   "source": [
    "import numpy as np\n",
    "import pandas as pd\n",
    "import cvxpy as cp\n",
    "import math"
   ]
  },
  {
   "cell_type": "markdown",
   "metadata": {},
   "source": [
    "# (a) Optimum of LS problem\n",
    "Let $g(x)=||\\tilde{y}-y||_2^2$, then we have $\\nabla g(x)=-2H^T\\tilde{y}-Hx=0$ and $\\nabla^2 g(x)=2H^TH>0$, which leads to the solution of question: \n",
    "\n",
    "$$ \\hat{x}=(H^TH)^{-1}H^T\\tilde{y} $$\n",
    "\n",
    "which is the optimum of the solution."
   ]
  },
  {
   "cell_type": "markdown",
   "metadata": {},
   "source": [
    "# (b) return the matrix of H"
   ]
  },
  {
   "cell_type": "code",
   "execution_count": 116,
   "metadata": {},
   "outputs": [],
   "source": [
    "def matrix_return(t,theta):\n",
    "    H = np.outer(t,theta)\n",
    "    H = np.cos(H)\n",
    "    return H"
   ]
  },
  {
   "cell_type": "markdown",
   "metadata": {},
   "source": [
    "# (c)\n",
    "## Aronson’s sequence"
   ]
  },
  {
   "cell_type": "code",
   "execution_count": 117,
   "metadata": {},
   "outputs": [
    {
     "name": "stdout",
     "output_type": "stream",
     "text": [
      "residual error: 2046.6129776377231\n",
      "(integer) amplitudes of existing frequencies: []\n"
     ]
    }
   ],
   "source": [
    "y_tilde_data = pd.read_csv('mathias_distress_call_1.csv',header=None)\n",
    "y_tilde = y_tilde_data.values\n",
    "y_tilde_data_2 = pd.read_csv('mathias_distress_call_2.csv',header=None)\n",
    "y_tilde_2 = y_tilde_data_2.values\n",
    "\n",
    "dt = 1.0/8192\n",
    "t = np.arange(0,len(y_tilde)*dt,dt)\n",
    "theta = [104, 111, 116, 122, 126, 131, 136, 142, 147, 158, 164, 169, \n",
    "         174, 181, 183, 193, 199, 205, 208, 214, 220, 226, 231, 237, \n",
    "         243, 249, 254]\n",
    "\n",
    "H = matrix_return(t,theta)\n",
    "x_hat_i = np.linalg.solve(np.dot(np.transpose(H),H),np.dot(np.transpose(H),y_tilde))\n",
    "print('residual error:', np.linalg.norm(y_tilde-np.dot(H,x_hat_i)))\n",
    "\n",
    "round_ = np.rint(x_hat_i)\n",
    "print('(integer) amplitudes of existing frequencies:',round_[round_.nonzero()])"
   ]
  },
  {
   "cell_type": "markdown",
   "metadata": {},
   "source": [
    "## Mathias own musical scale"
   ]
  },
  {
   "cell_type": "code",
   "execution_count": 118,
   "metadata": {},
   "outputs": [
    {
     "name": "stdout",
     "output_type": "stream",
     "text": [
      "residual error: 1971.2745375190368\n",
      "(integer) amplitudes of existing frequencies: [4.]\n"
     ]
    }
   ],
   "source": [
    "theta = np.arange(311.127, 311.127+311.127,311.127/27)\n",
    "H = matrix_return(t,theta)\n",
    "x_hat_ii = np.linalg.solve(np.dot(np.transpose(H),H),np.dot(np.transpose(H),y_tilde))\n",
    "print('residual error:', np.linalg.norm(y_tilde-np.dot(H,x_hat_ii)))\n",
    "\n",
    "round_ = np.rint(x_hat_ii)\n",
    "print('(integer) amplitudes of existing frequencies:',round_[round_.nonzero()])"
   ]
  },
  {
   "cell_type": "markdown",
   "metadata": {},
   "source": [
    "## \"Fibonacci-on-steroids\" sequence"
   ]
  },
  {
   "cell_type": "code",
   "execution_count": 125,
   "metadata": {},
   "outputs": [
    {
     "name": "stdout",
     "output_type": "stream",
     "text": [
      "residual error: 100.96291599345125\n",
      "(integer) amplitudes of existing frequencies: [2. 6. 3. 4. 1. 8. 7. 5.]\n"
     ]
    }
   ],
   "source": [
    "theta = np.zeros(27)\n",
    "theta[0] = 150\n",
    "theta[1] = 175\n",
    "for i in range(2,27):\n",
    "    theta[i] = math.ceil(0.5*theta[i-1])+math.ceil(0.8*theta[i-2])\n",
    "\n",
    "H = matrix_return(t,theta)\n",
    "x_hat_iii = np.linalg.solve(np.dot(np.transpose(H),H),np.dot(np.transpose(H),y_tilde))\n",
    "print('residual error:', np.linalg.norm(y_tilde-np.dot(H,x_hat_iii)))\n",
    "\n",
    "round_ = np.rint(x_hat_iii)\n",
    "print('(integer) amplitudes of existing frequencies:',round_[round_.nonzero()])"
   ]
  },
  {
   "cell_type": "markdown",
   "metadata": {},
   "source": [
    "Based on the corresponding solutions, we know \"Fibonacci-on-steroids\" sequences works the best. We find from the solution that some values are very close to zero. We round the solution and find that this solution is sparse and only $a_5$, $a_7$, $a_8$, $a_{18}$, $a_{19}$, $a_{20}$, $a_{21}$, $a_{27}$ are nonzero, these values are printed below. Therefore, the message only contains the frequency of $\\theta_5$, $\\theta_7$, $\\theta_8$, $\\theta_{18}$, $\\theta_{19}$, $\\theta_{20}$, $\\theta_{21}$, $\\theta_{27}$"
   ]
  },
  {
   "cell_type": "markdown",
   "metadata": {},
   "source": [
    "# (d)\n",
    "Based on encoding rules, and to make the message meaningful, I believe the message is \"Sehr Gut\""
   ]
  },
  {
   "cell_type": "markdown",
   "metadata": {},
   "source": [
    "# (e) With CVXPY package and Lasso\n",
    "\n",
    "## Aronson's sequence"
   ]
  },
  {
   "cell_type": "code",
   "execution_count": 126,
   "metadata": {},
   "outputs": [
    {
     "name": "stdout",
     "output_type": "stream",
     "text": [
      "status: optimal\n",
      "optimal value -23229.716229886206\n",
      "optimal var [-0.21521703 -0.00353822  0.08368956  0.10221334 -0.16853694  0.01085701\n",
      " -0.1206886  -0.23036186 -0.20126676 -0.58099642 -0.57316031 -0.31312355\n",
      " -0.07366938  0.09966962 -0.20783639  0.09966721 -0.6814735   0.01021345\n",
      " -0.52643423 -0.48178886 -0.00666119  0.0925495  -0.11018446 -0.44973632\n",
      " -0.10788049 -0.15544431 -0.26628757]\n",
      "residual error: 9521.232829210603\n",
      "(integer) amplitudes of existing frequencies:\n",
      " [-1. -1. -1. -1.]\n"
     ]
    }
   ],
   "source": [
    "theta = [104, 111, 116, 122, 126, 131, 136, 142, 147, 158, 164, 169, \n",
    "         174, 181, 183, 193, 199, 205, 208, 214, 220, 226, 231, 237, \n",
    "         243, 249, 254]\n",
    "\n",
    "H = matrix_return(t,theta)\n",
    "\n",
    "lambd_value = 0.01\n",
    "x = cp.Variable(27)\n",
    "q = np.dot(H.transpose(),y_tilde_2[:,0]);\n",
    "Q = np.dot(H.transpose(),H);\n",
    "\n",
    "obj = cp.Minimize((1/2)*cp.quad_form(x,Q) - q.T@x+ lambd_value * cp.norm(x,1))\n",
    "prob = cp.Problem(obj)\n",
    "prob.solve()\n",
    "\n",
    "print(\"status:\", prob.status)\n",
    "print(\"optimal value\", prob.value)\n",
    "print(\"optimal var\", x.value)\n",
    "print('residual error:', np.linalg.norm(y_tilde_2-np.dot(H,np.array(x.value).reshape(27,1))))\n",
    "\n",
    "round_ = np.rint(x.value)\n",
    "print('(integer) amplitudes of existing frequencies:\\n',round_[round_.nonzero()])"
   ]
  },
  {
   "cell_type": "markdown",
   "metadata": {},
   "source": [
    "## Mathias own musical scale"
   ]
  },
  {
   "cell_type": "code",
   "execution_count": 128,
   "metadata": {},
   "outputs": [
    {
     "name": "stdout",
     "output_type": "stream",
     "text": [
      "status: optimal\n",
      "optimal value\n",
      " -12814917.773039307\n",
      "optimal var\n",
      " [ 4.85675538  0.12491349  2.10439819 -0.0642973  14.04120424 11.23070402\n",
      " 12.66863005  3.43940203  0.27610538 -0.42143239  8.15230994 15.10680501\n",
      "  0.27170356 -0.10013353  8.5317525   9.97387158  0.16070435  5.79752298\n",
      "  1.06782768 -0.55382922  0.21608757 -0.56366787  3.83147286 -0.12496136\n",
      "  0.12715705  7.02689868 11.95693671]\n",
      "residual error: 8066.628552844164\n",
      "(integer) amplitudes of existing frequencies:\n",
      " [ 5.  2. 14. 11. 13.  3.  8. 15.  9. 10.  6.  1. -1. -1.  4.  7. 12.]\n"
     ]
    }
   ],
   "source": [
    "theta = np.arange(311.127, 311.127+311.127,311.127/27)\n",
    "H = matrix_return(t,theta)\n",
    "\n",
    "lambd_value = 0.01\n",
    "x = cp.Variable(27)\n",
    "q = np.dot(H.transpose(),y_tilde_2[:,0]);\n",
    "Q = np.dot(H.transpose(),H);\n",
    "\n",
    "\n",
    "obj = cp.Minimize((1/2)*cp.quad_form(x,Q) - q.T@x+ lambd_value * cp.norm(x,1))\n",
    "prob = cp.Problem(obj)\n",
    "prob.solve()\n",
    "print(\"status:\", prob.status)\n",
    "print(\"optimal value\\n\", prob.value)\n",
    "print(\"optimal var\\n\", x.value)\n",
    "print('residual error:', np.linalg.norm(y_tilde_2-np.dot(H,np.array(x.value).reshape(27,1))))\n",
    "\n",
    "round_ = np.rint(x.value)\n",
    "print('(integer) amplitudes of existing frequencies:\\n',round_[round_.nonzero()])"
   ]
  },
  {
   "cell_type": "markdown",
   "metadata": {},
   "source": [
    "## \"Fibonacci-on-steroids\" sequence"
   ]
  },
  {
   "cell_type": "code",
   "execution_count": 129,
   "metadata": {},
   "outputs": [
    {
     "name": "stdout",
     "output_type": "stream",
     "text": [
      "status: optimal\n",
      "optimal value -19423.112508260954\n",
      "optimal var [-0.39262496  0.04397385 -0.51970336  0.18338171  0.30182342  0.08864298\n",
      "  0.42671417  0.30490034 -0.33818958 -0.05398927 -0.04919512 -0.22962772\n",
      "  0.40636206  0.21341208  0.42150183  0.23243899  0.180572    0.30452787\n",
      "  0.25112767  0.04696447  0.12193685 -0.00703604  0.19412716 -0.01149291\n",
      "  0.23975734  0.33252731 -0.1887173 ]\n",
      "residual error: 9521.63262176316\n",
      "(integer) amplitudes of existing frequencies:\n",
      " [-1.]\n"
     ]
    }
   ],
   "source": [
    "theta = np.zeros(27)\n",
    "theta[0] = 150\n",
    "theta[1] = 175\n",
    "for i in range(25):\n",
    "    theta[i+2] = np.ceil(0.5*theta[i+1])+np.ceil(0.8*theta[i])\n",
    "H = matrix_return(t,theta)\n",
    "\n",
    "lambd_value = 0.01\n",
    "x = cp.Variable(27)\n",
    "q = np.dot(H.transpose(),y_tilde_2[:,0]);\n",
    "Q = np.dot(H.transpose(),H);\n",
    "\n",
    "obj = cp.Minimize((1/2)*cp.quad_form(x,Q) - q.T@x+ lambd_value * cp.norm(x,1))\n",
    "prob = cp.Problem(obj)\n",
    "prob.solve()\n",
    "\n",
    "print(\"status:\", prob.status)\n",
    "print(\"optimal value\", prob.value)\n",
    "print(\"optimal var\", x.value)\n",
    "print('residual error:', np.linalg.norm(y_tilde_2-np.dot(H,np.array(x.value).reshape(27,1))))\n",
    "\n",
    "round_ = np.rint(x.value)\n",
    "print('(integer) amplitudes of existing frequencies:\\n',round_[round_.nonzero()])"
   ]
  },
  {
   "cell_type": "markdown",
   "metadata": {},
   "source": [
    "## (i) \n",
    "I would say we take the $\\lambda=0.01$ is a good value, becasue with this value there is no alias in the message, which means the interpretation is meaningful. In the sametime, this value is small so it won't harm the least square results a lot. Ther reason that the one norm regularizer helps de-noise the signal is that under this regularizer, the solution tends to be sparse, which means it will filter some unimportant signals. i.e. setting the corresponding weights to zero."
   ]
  },
  {
   "cell_type": "markdown",
   "metadata": {},
   "source": [
    "## (ii) \n",
    "I would choose the second sequence"
   ]
  },
  {
   "cell_type": "markdown",
   "metadata": {},
   "source": [
    "## (iii)\n",
    "The message Mathias broadcasted was \"SCHWARZKOPF GEL\", which I believe is one kind of gel."
   ]
  },
  {
   "cell_type": "markdown",
   "metadata": {},
   "source": [
    "# (f)\n",
    "If we are going to maintain the variable number to 27, I think there is no easy fix to this problem. But if we can auagment the variable to larger dimension, so we all multiple appearance for each letter and space, then it is possible to encode the message."
   ]
  },
  {
   "cell_type": "code",
   "execution_count": null,
   "metadata": {},
   "outputs": [],
   "source": []
  }
 ],
 "metadata": {
  "kernelspec": {
   "display_name": "Python 3",
   "language": "python",
   "name": "python3"
  },
  "language_info": {
   "codemirror_mode": {
    "name": "ipython",
    "version": 3
   },
   "file_extension": ".py",
   "mimetype": "text/x-python",
   "name": "python",
   "nbconvert_exporter": "python",
   "pygments_lexer": "ipython3",
   "version": "3.6.9"
  }
 },
 "nbformat": 4,
 "nbformat_minor": 2
}
