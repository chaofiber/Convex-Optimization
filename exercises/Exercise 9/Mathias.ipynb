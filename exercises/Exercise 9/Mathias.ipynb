{
 "cells": [
  {
   "cell_type": "code",
   "execution_count": 79,
   "metadata": {},
   "outputs": [],
   "source": [
    "import numpy as np\n",
    "import pandas as pd\n",
    "import cvxpy as cp"
   ]
  },
  {
   "cell_type": "markdown",
   "metadata": {},
   "source": [
    "# (a) Optimum of LS problem\n",
    "Let $g(x)=||\\tilde{y}-y||_2^2$, then we have $\\nabla g(x)=-2H^T\\tilde{y}-Hx=0$ and $\\nabla^2 g(x)=2H^TH>0$, which leads to the solution of question: \n",
    "\n",
    "$$ \\hat{x}=(H^TH)^{-1}H^T\\tilde{y} $$\n",
    "\n",
    "which is the optimum of the solution."
   ]
  },
  {
   "cell_type": "markdown",
   "metadata": {},
   "source": [
    "# (b) return the matrix of H"
   ]
  },
  {
   "cell_type": "code",
   "execution_count": 80,
   "metadata": {},
   "outputs": [],
   "source": [
    "def matrix_return(t,theta):\n",
    "    H = []\n",
    "    for i in range(len(theta)):\n",
    "        H.append(np.cos(theta[i]*t))\n",
    "    return np.transpose(H)"
   ]
  },
  {
   "cell_type": "markdown",
   "metadata": {},
   "source": [
    "# (c)\n",
    "## Aronson’s sequence"
   ]
  },
  {
   "cell_type": "code",
<<<<<<< HEAD
   "execution_count": 3,
=======
   "execution_count": 88,
>>>>>>> 72dd4bf84aeca7e6c3968fcf50afa731f890deab
   "metadata": {},
   "outputs": [
    {
     "name": "stdout",
     "output_type": "stream",
     "text": [
      "residual error: 2046.298989299373\n",
      "(integer) amplitudes of existing frequencies: []\n"
     ]
    }
   ],
   "source": [
    "y_tilde_data = pd.read_csv('mathias_distress_call_1.csv')\n",
    "y_tilde = y_tilde_data.values\n",
    "y_tilde_data_2 = pd.read_csv('mathias_distress_call_2.csv')\n",
    "y_tilde_2 = y_tilde_data_2.values\n",
    "\n",
    "dt = 1.0/8192\n",
    "t = np.arange(0,len(y_tilde)*dt,dt)\n",
    "theta = [104, 111, 116, 122, 126, 131, 136, 142, 147, 158, 164, 169, \n",
    "         174, 181, 183, 193, 199, 205, 208, 214, 220, 226, 231, 237, \n",
    "         243, 249, 254]\n",
    "\n",
    "H = matrix_return(t,theta)\n",
    "x_hat_i = np.linalg.solve(np.dot(np.transpose(H),H),np.dot(np.transpose(H),y_tilde))\n",
    "print('residual error:', np.linalg.norm(y_tilde-np.dot(H,x_hat_i)))\n",
    "\n",
    "round_ = np.rint(x_hat_i)\n",
    "print('(integer) amplitudes of existing frequencies:',round_[round_.nonzero()])"
   ]
  },
  {
   "cell_type": "markdown",
   "metadata": {},
   "source": [
    "## Mathias own musical scale"
   ]
  },
  {
   "cell_type": "code",
<<<<<<< HEAD
   "execution_count": 4,
=======
   "execution_count": 89,
>>>>>>> 72dd4bf84aeca7e6c3968fcf50afa731f890deab
   "metadata": {},
   "outputs": [
    {
     "name": "stdout",
     "output_type": "stream",
     "text": [
      "residual error: 1963.530567863447\n",
      "(integer) amplitudes of existing frequencies: [4.]\n"
     ]
    }
   ],
   "source": [
    "theta = np.arange(311.127, 311.127+311.127,311.127/27)\n",
    "H = matrix_return(t,theta)\n",
    "x_hat_ii = np.linalg.solve(np.dot(np.transpose(H),H),np.dot(np.transpose(H),y_tilde))\n",
    "print('residual error:', np.linalg.norm(y_tilde-np.dot(H,x_hat_ii)))\n",
    "\n",
    "round_ = np.rint(x_hat_ii)\n",
    "print('(integer) amplitudes of existing frequencies:',round_[round_.nonzero()])"
   ]
  },
  {
   "cell_type": "markdown",
   "metadata": {},
   "source": [
    "## \"Fibonacci-on-steroids\" sequence"
   ]
  },
  {
   "cell_type": "code",
<<<<<<< HEAD
   "execution_count": 5,
=======
   "execution_count": 90,
>>>>>>> 72dd4bf84aeca7e6c3968fcf50afa731f890deab
   "metadata": {},
   "outputs": [
    {
     "name": "stdout",
     "output_type": "stream",
     "text": [
      "residual error: 983.5818503735173\n",
      "(integer) amplitudes of existing frequencies: [2. 6. 3. 4. 1. 7. 6. 1.]\n"
     ]
    }
   ],
   "source": [
    "theta = np.zeros(27)\n",
    "theta[0] = 150\n",
    "theta[1] = 175\n",
    "for i in range(25):\n",
    "    theta[i+2] = np.ceil(0.5*theta[i+1])+np.ceil(0.8*theta[i])\n",
    "H = matrix_return(t,theta)\n",
    "x_hat_iii = np.linalg.solve(np.dot(np.transpose(H),H),np.dot(np.transpose(H),y_tilde))\n",
    "#H_inv = np.linalg.inv(np.dot(H.transpose(),H));\n",
    "#x_hat_iii = np.dot(np.dot(H_inv,H.transpose()),y_tilde);\n",
    "print('residual error:', np.linalg.norm(y_tilde-np.dot(H,x_hat_iii)))\n",
    "\n",
    "round_ = np.rint(x_hat_iii)\n",
    "print('(integer) amplitudes of existing frequencies:',round_[round_.nonzero()])"
   ]
  },
  {
   "cell_type": "markdown",
   "metadata": {},
   "source": [
<<<<<<< HEAD
    "Based on the residual error, we know \"Fibonacci-on-steroids\" sequences works the best. We find from the solution that some values are very close to zero. We round the solution and find that this solution is sparse and only $a_5$, $a_7$, $a_8$, $a_{18}$, $a_{19}$, $a_{20}$, $a_{21}$, $a_{27}$ are nonzero, these values are printed below. Therefore, the message only contains the frequency of $\\theta_5$, $\\theta_7$, $\\theta_8$, $\\theta_{18}$, $\\theta_{19}$, $\\theta_{20}$, $\\theta_{21}$, $\\theta_{27}$"
   ]
  },
  {
   "cell_type": "code",
   "execution_count": 6,
   "metadata": {},
   "outputs": [
    {
     "name": "stdout",
     "output_type": "stream",
     "text": [
      "(integer) amplitudes of existing frequencies: [2. 6. 3. 4. 1. 7. 6. 1.]\n"
     ]
    }
   ],
   "source": [
    "round_ = np.rint(x_hat_iii)\n",
    "print('(integer) amplitudes of existing frequencies:',round_[round_.nonzero()])"
=======
    "Based on the corresponding solutions, we know \"Fibonacci-on-steroids\" sequences works the best. We find from the solution that some values are very close to zero. We round the solution and find that this solution is sparse and only $a_5$, $a_7$, $a_8$, $a_{18}$, $a_{19}$, $a_{20}$, $a_{21}$, $a_{27}$ are nonzero, these values are printed below. Therefore, the message only contains the frequency of $\\theta_5$, $\\theta_7$, $\\theta_8$, $\\theta_{18}$, $\\theta_{19}$, $\\theta_{20}$, $\\theta_{21}$, $\\theta_{27}$"
>>>>>>> 72dd4bf84aeca7e6c3968fcf50afa731f890deab
   ]
  },
  {
   "cell_type": "markdown",
   "metadata": {},
   "source": [
    "# (d)\n",
    "Based on encoding rules, and to make the message meaningful, I believe the message is \"Sehr Gut\""
   ]
  },
  {
   "cell_type": "markdown",
   "metadata": {},
   "source": [
    "# (e) With CVXPY package and Lasso\n",
    "\n",
    "## Aronson's sequence"
   ]
  },
  {
   "cell_type": "code",
<<<<<<< HEAD
   "execution_count": 13,
=======
   "execution_count": 85,
>>>>>>> 72dd4bf84aeca7e6c3968fcf50afa731f890deab
   "metadata": {},
   "outputs": [
    {
     "name": "stdout",
     "output_type": "stream",
     "text": [
<<<<<<< HEAD
      "status: infeasible_inaccurate\n",
      "optimal value None\n",
      "optimal var None\n"
     ]
    },
    {
     "ename": "ValueError",
     "evalue": "cannot reshape array of size 1 into shape (27,1)",
     "output_type": "error",
     "traceback": [
      "\u001b[1;31m---------------------------------------------------------------------------\u001b[0m",
      "\u001b[1;31mValueError\u001b[0m                                Traceback (most recent call last)",
      "\u001b[1;32m<ipython-input-13-0aa7dd5ad75b>\u001b[0m in \u001b[0;36m<module>\u001b[1;34m\u001b[0m\n\u001b[0;32m     15\u001b[0m \u001b[0mprint\u001b[0m\u001b[1;33m(\u001b[0m\u001b[1;34m\"optimal value\"\u001b[0m\u001b[1;33m,\u001b[0m \u001b[0mprob\u001b[0m\u001b[1;33m.\u001b[0m\u001b[0mvalue\u001b[0m\u001b[1;33m)\u001b[0m\u001b[1;33m\u001b[0m\u001b[1;33m\u001b[0m\u001b[0m\n\u001b[0;32m     16\u001b[0m \u001b[0mprint\u001b[0m\u001b[1;33m(\u001b[0m\u001b[1;34m\"optimal var\"\u001b[0m\u001b[1;33m,\u001b[0m \u001b[0mx_cp\u001b[0m\u001b[1;33m.\u001b[0m\u001b[0mvalue\u001b[0m\u001b[1;33m)\u001b[0m\u001b[1;33m\u001b[0m\u001b[1;33m\u001b[0m\u001b[0m\n\u001b[1;32m---> 17\u001b[1;33m \u001b[0mprint\u001b[0m\u001b[1;33m(\u001b[0m\u001b[1;34m'residual error:'\u001b[0m\u001b[1;33m,\u001b[0m \u001b[0mnp\u001b[0m\u001b[1;33m.\u001b[0m\u001b[0mlinalg\u001b[0m\u001b[1;33m.\u001b[0m\u001b[0mnorm\u001b[0m\u001b[1;33m(\u001b[0m\u001b[0my_tilde_2\u001b[0m\u001b[1;33m-\u001b[0m\u001b[0mnp\u001b[0m\u001b[1;33m.\u001b[0m\u001b[0mdot\u001b[0m\u001b[1;33m(\u001b[0m\u001b[0mH\u001b[0m\u001b[1;33m,\u001b[0m\u001b[0mnp\u001b[0m\u001b[1;33m.\u001b[0m\u001b[0marray\u001b[0m\u001b[1;33m(\u001b[0m\u001b[0mx_cp\u001b[0m\u001b[1;33m.\u001b[0m\u001b[0mvalue\u001b[0m\u001b[1;33m)\u001b[0m\u001b[1;33m.\u001b[0m\u001b[0mreshape\u001b[0m\u001b[1;33m(\u001b[0m\u001b[1;36m27\u001b[0m\u001b[1;33m,\u001b[0m\u001b[1;36m1\u001b[0m\u001b[1;33m)\u001b[0m\u001b[1;33m)\u001b[0m\u001b[1;33m)\u001b[0m\u001b[1;33m)\u001b[0m\u001b[1;33m\u001b[0m\u001b[1;33m\u001b[0m\u001b[0m\n\u001b[0m",
      "\u001b[1;31mValueError\u001b[0m: cannot reshape array of size 1 into shape (27,1)"
=======
      "status: optimal\n",
      "optimal value -23903.73007045189\n",
      "optimal var [-0.21487499 -0.00847243  0.07280993  0.09947972 -0.17233566  0.00236998\n",
      " -0.12879463 -0.24122263 -0.20385179 -0.5824162  -0.57086698 -0.31759509\n",
      " -0.08591571  0.09933246 -0.21166452  0.09572439 -0.69108564  0.00534629\n",
      " -0.53413733 -0.50411963 -0.00159194  0.0788171  -0.12479244 -0.46301546\n",
      " -0.11044539 -0.15596631 -0.26432722]\n",
      "residual error: 9520.504306316883\n",
      "(integer) amplitudes of existing frequencies:\n",
      " [-1. -1. -1. -1. -1.]\n"
>>>>>>> 72dd4bf84aeca7e6c3968fcf50afa731f890deab
     ]
    }
   ],
   "source": [
    "theta = [104, 111, 116, 122, 126, 131, 136, 142, 147, 158, 164, 169, \n",
    "         174, 181, 183, 193, 199, 205, 208, 214, 220, 226, 231, 237, \n",
    "         243, 249, 254]\n",
    "\n",
    "H = matrix_return(t,theta)\n",
    "\n",
<<<<<<< HEAD
    "lambd_value = 0.0001\n",
    "x_cp = cp.Variable(27)\n",
    "obj = cp.Minimize(cp.norm(y_tilde[:,0] - H @ x_cp)**2 + lambd_value * cp.norm(x_cp,1))\n",
=======
    "lambd_value = 10\n",
    "x = cp.Variable(27)\n",
    "q = np.dot(H.transpose(),y_tilde_2[:,0]);\n",
    "Q = np.dot(H.transpose(),H);\n",
>>>>>>> 72dd4bf84aeca7e6c3968fcf50afa731f890deab
    "\n",
    "obj = cp.Minimize((1/2)*cp.quad_form(x,Q) - q.T@x+ lambd_value * cp.norm(x,1))\n",
    "prob = cp.Problem(obj)\n",
<<<<<<< HEAD
    "#prob.solve(solver=cp.SCS)\n",
    "prob.solve()\n",
=======
    "prob.solve()\n",
    "\n",
>>>>>>> 72dd4bf84aeca7e6c3968fcf50afa731f890deab
    "print(\"status:\", prob.status)\n",
    "print(\"optimal value\", prob.value)\n",
    "print(\"optimal var\", x.value)\n",
    "print('residual error:', np.linalg.norm(y_tilde_2-np.dot(H,np.array(x.value).reshape(27,1))))\n",
    "\n",
    "round_ = np.rint(x.value)\n",
    "print('(integer) amplitudes of existing frequencies:\\n',round_[round_.nonzero()])"
   ]
  },
  {
   "cell_type": "markdown",
   "metadata": {},
   "source": [
    "## Mathias own musical scale"
   ]
  },
  {
   "cell_type": "code",
<<<<<<< HEAD
   "execution_count": 25,
=======
   "execution_count": 86,
>>>>>>> 72dd4bf84aeca7e6c3968fcf50afa731f890deab
   "metadata": {},
   "outputs": [
    {
     "name": "stdout",
     "output_type": "stream",
     "text": [
<<<<<<< HEAD
      "status: infeasible_inaccurate\n",
      "optimal value None\n",
      "optimal var None\n"
     ]
    },
    {
     "ename": "ValueError",
     "evalue": "cannot reshape array of size 1 into shape (27,1)",
     "output_type": "error",
     "traceback": [
      "\u001b[1;31m---------------------------------------------------------------------------\u001b[0m",
      "\u001b[1;31mValueError\u001b[0m                                Traceback (most recent call last)",
      "\u001b[1;32m<ipython-input-25-a3ce81195a2f>\u001b[0m in \u001b[0;36m<module>\u001b[1;34m\u001b[0m\n\u001b[0;32m     12\u001b[0m \u001b[0mprint\u001b[0m\u001b[1;33m(\u001b[0m\u001b[1;34m\"optimal value\"\u001b[0m\u001b[1;33m,\u001b[0m \u001b[0mprob\u001b[0m\u001b[1;33m.\u001b[0m\u001b[0mvalue\u001b[0m\u001b[1;33m)\u001b[0m\u001b[1;33m\u001b[0m\u001b[1;33m\u001b[0m\u001b[0m\n\u001b[0;32m     13\u001b[0m \u001b[0mprint\u001b[0m\u001b[1;33m(\u001b[0m\u001b[1;34m\"optimal var\"\u001b[0m\u001b[1;33m,\u001b[0m \u001b[0mx_cp\u001b[0m\u001b[1;33m.\u001b[0m\u001b[0mvalue\u001b[0m\u001b[1;33m)\u001b[0m\u001b[1;33m\u001b[0m\u001b[1;33m\u001b[0m\u001b[0m\n\u001b[1;32m---> 14\u001b[1;33m \u001b[0mprint\u001b[0m\u001b[1;33m(\u001b[0m\u001b[1;34m'residual error:'\u001b[0m\u001b[1;33m,\u001b[0m \u001b[0mnp\u001b[0m\u001b[1;33m.\u001b[0m\u001b[0mlinalg\u001b[0m\u001b[1;33m.\u001b[0m\u001b[0mnorm\u001b[0m\u001b[1;33m(\u001b[0m\u001b[0my_tilde_2\u001b[0m\u001b[1;33m-\u001b[0m\u001b[0mnp\u001b[0m\u001b[1;33m.\u001b[0m\u001b[0mdot\u001b[0m\u001b[1;33m(\u001b[0m\u001b[0mH\u001b[0m\u001b[1;33m,\u001b[0m\u001b[0mnp\u001b[0m\u001b[1;33m.\u001b[0m\u001b[0marray\u001b[0m\u001b[1;33m(\u001b[0m\u001b[0mx_cp\u001b[0m\u001b[1;33m.\u001b[0m\u001b[0mvalue\u001b[0m\u001b[1;33m)\u001b[0m\u001b[1;33m.\u001b[0m\u001b[0mreshape\u001b[0m\u001b[1;33m(\u001b[0m\u001b[1;36m27\u001b[0m\u001b[1;33m,\u001b[0m\u001b[1;36m1\u001b[0m\u001b[1;33m)\u001b[0m\u001b[1;33m)\u001b[0m\u001b[1;33m)\u001b[0m\u001b[1;33m)\u001b[0m\u001b[1;33m\u001b[0m\u001b[1;33m\u001b[0m\u001b[0m\n\u001b[0m",
      "\u001b[1;31mValueError\u001b[0m: cannot reshape array of size 1 into shape (27,1)"
=======
      "status: optimal\n",
      "optimal value\n",
      " -4167009.5027802205\n",
      "optimal var\n",
      " [ 1.00148617e-22  5.71277706e-23 -6.77085100e-23 -1.94400973e-22\n",
      "  9.23301964e+00  6.45509653e+00  7.90186269e+00 -1.07886027e-22\n",
      " -6.74941380e-23 -4.27053895e-23  3.27150849e+00  1.02465767e+01\n",
      " -2.21082613e-22 -1.99783475e-22  3.70866257e+00  5.17341632e+00\n",
      " -7.12947565e-23  9.64738103e-01 -6.37475920e-23 -3.70987915e-23\n",
      "  2.38566045e-23  3.65297332e-23  1.79625021e-23 -2.75872356e-23\n",
      " -8.29337059e-23  2.16721066e+00  7.11053805e+00]\n",
      "residual error: 8432.519527668373\n",
      "(integer) amplitudes of existing frequencies:\n",
      " [ 9.  6.  8.  3. 10.  4.  5.  1.  2.  7.]\n"
>>>>>>> 72dd4bf84aeca7e6c3968fcf50afa731f890deab
     ]
    }
   ],
   "source": [
    "theta = np.arange(311.127, 311.127+311.127,311.127/27)\n",
    "H = matrix_return(t,theta)\n",
    "\n",
<<<<<<< HEAD
    "lambd_value = 1\n",
    "x_cp = cp.Variable(27)\n",
    "obj = cp.Minimize(cp.norm(y_tilde_2[:,0] - H @ x_cp)**2 + lambd_value * cp.norm(x_cp,1))\n",
    "\n",
    "prob = cp.Problem(obj)\n",
    "#prob.solve(solver=cp.MOSEK)\n",
=======
    "lambd_value = 100000\n",
    "x = cp.Variable(27)\n",
    "q = np.dot(H.transpose(),y_tilde_2[:,0]);\n",
    "Q = np.dot(H.transpose(),H);\n",
    "\n",
    "\n",
    "obj = cp.Minimize((1/2)*cp.quad_form(x,Q) - q.T@x+ lambd_value * cp.norm(x,1))\n",
    "prob = cp.Problem(obj)\n",
>>>>>>> 72dd4bf84aeca7e6c3968fcf50afa731f890deab
    "prob.solve()\n",
    "print(\"status:\", prob.status)\n",
    "print(\"optimal value\\n\", prob.value)\n",
    "print(\"optimal var\\n\", x.value)\n",
    "print('residual error:', np.linalg.norm(y_tilde_2-np.dot(H,np.array(x.value).reshape(27,1))))\n",
    "\n",
    "round_ = np.rint(x.value)\n",
    "print('(integer) amplitudes of existing frequencies:\\n',round_[round_.nonzero()])"
   ]
  },
  {
   "cell_type": "markdown",
   "metadata": {},
   "source": [
    "## \"Fibonacci-on-steroids\" sequence"
   ]
  },
  {
   "cell_type": "code",
   "execution_count": 87,
   "metadata": {},
   "outputs": [
    {
     "name": "stdout",
     "output_type": "stream",
     "text": [
      "status: optimal\n",
      "optimal value -19543.285139751504\n",
      "optimal var [-0.40217729  0.04187345 -0.52785243  0.16658523  0.28453751  0.0762843\n",
      "  0.40895657  0.30252246 -0.3425983  -0.0218973  -0.05640451 -0.2139084\n",
      "  0.3563077   0.24023466  0.41632495  0.2223009   0.19751906  0.43440569\n",
      "  0.36303533  0.08260647  0.13351879  0.1013268   0.17676502 -0.16813495\n",
      "  0.05141703  0.24695511  0.00631517]\n",
      "residual error: 9520.968011623941\n",
      "(integer) amplitudes of existing frequencies:\n",
      " [-1.]\n"
     ]
    }
   ],
   "source": [
    "theta = np.zeros(27)\n",
    "theta[0] = 150\n",
    "theta[1] = 175\n",
    "for i in range(25):\n",
    "    theta[i+2] = np.ceil(0.5*theta[i+1])+np.ceil(0.8*theta[i])\n",
    "H = matrix_return(t,theta)\n",
    "\n",
    "lambd_value = 1\n",
    "x = cp.Variable(27)\n",
    "q = np.dot(H.transpose(),y_tilde_2[:,0]);\n",
    "Q = np.dot(H.transpose(),H);\n",
    "\n",
    "obj = cp.Minimize((1/2)*cp.quad_form(x,Q) - q.T@x+ lambd_value * cp.norm(x,1))\n",
    "prob = cp.Problem(obj)\n",
    "prob.solve()\n",
    "\n",
    "print(\"status:\", prob.status)\n",
    "print(\"optimal value\", prob.value)\n",
    "print(\"optimal var\", x.value)\n",
    "print('residual error:', np.linalg.norm(y_tilde_2-np.dot(H,np.array(x.value).reshape(27,1))))\n",
    "\n",
    "round_ = np.rint(x.value)\n",
    "print('(integer) amplitudes of existing frequencies:\\n',round_[round_.nonzero()])"
   ]
  },
  {
   "cell_type": "markdown",
   "metadata": {},
   "source": [
    "## (i) \n",
    "I would say we take the $\\lambda=10000$ is a good value, becasue with this value there is no alias in the message. Ther reason that the one norm regularizer helps de-noise the signal is that under this regularizer, the solution tends to be sparse, which means it will filter some unimportant signals. i.e. setting the corresponding weights to zero."
   ]
  },
  {
   "cell_type": "markdown",
   "metadata": {},
   "source": [
    "## (ii) \n",
    "I would choose the second sequence"
   ]
  },
  {
   "cell_type": "markdown",
   "metadata": {},
   "source": [
    "## (iii)\n",
    "The message Mathias broadcasted was \"RZKOPF GEL\", which I belived made no sense."
   ]
  },
  {
   "cell_type": "markdown",
   "metadata": {},
   "source": [
    "# (f)\n",
    "If we are going to maintain the variable number to 27, I think there is no easy fix to this problem. But if we can auagment the variable to larger dimension, so we all multiple appearance for each letter and space, then it is possible to encode the message."
   ]
  }
 ],
 "metadata": {
  "kernelspec": {
   "display_name": "Python 3",
   "language": "python",
   "name": "python3"
  },
  "language_info": {
   "codemirror_mode": {
    "name": "ipython",
    "version": 3
   },
   "file_extension": ".py",
   "mimetype": "text/x-python",
   "name": "python",
   "nbconvert_exporter": "python",
   "pygments_lexer": "ipython3",
   "version": "3.7.1"
  }
 },
 "nbformat": 4,
 "nbformat_minor": 2
}
