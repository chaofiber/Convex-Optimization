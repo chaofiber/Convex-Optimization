{
 "cells": [
  {
   "cell_type": "code",
   "execution_count": 1,
   "metadata": {},
   "outputs": [],
   "source": [
    "import numpy as np\n",
    "import pandas as pd\n",
    "import cvxpy as cp"
   ]
  },
  {
   "cell_type": "markdown",
   "metadata": {},
   "source": [
    "# (a) Optimum of LS problem\n",
    "Let $g(x)=||\\tilde{y}-y||_2^2$, then we have $\\nabla g(x)=-2H^T\\tilde{y}-Hx=0$ and $\\nabla^2 g(x)=2H^TH>0$, which leads to the solution of question: \n",
    "\n",
    "$$ \\hat{x}=(H^TH)^{-1}H^T\\tilde{y} $$\n",
    "\n",
    "which is the optimum of the solution."
   ]
  },
  {
   "cell_type": "markdown",
   "metadata": {},
   "source": [
    "# (b) return the matrix of H"
   ]
  },
  {
   "cell_type": "code",
   "execution_count": 2,
   "metadata": {},
   "outputs": [],
   "source": [
    "def matrix_return(t,theta):\n",
    "    H = []\n",
    "    for i in range(len(theta)):\n",
    "        H.append(np.cos(theta[i]*t))\n",
    "    return np.transpose(H)"
   ]
  },
  {
   "cell_type": "markdown",
   "metadata": {},
   "source": [
    "# (c)\n",
    "## Aronson’s sequence"
   ]
  },
  {
   "cell_type": "code",
   "execution_count": 3,
   "metadata": {},
   "outputs": [
    {
     "name": "stdout",
     "output_type": "stream",
     "text": [
      "residual error: 2046.298989299373\n"
     ]
    }
   ],
   "source": [
    "y_tilde_data = pd.read_csv('mathias_distress_call_1.csv')\n",
    "y_tilde = y_tilde_data.values\n",
    "y_tilde_data_2 = pd.read_csv('mathias_distress_call_2.csv')\n",
    "y_tilde_2 = y_tilde_data_2.values\n",
    "\n",
    "dt = 1.0/8192\n",
    "t = np.arange(0,len(y_tilde)*dt,dt)\n",
    "theta = [104, 111, 116, 122, 126, 131, 136, 142, 147, 158, 164, 169, \n",
    "         174, 181, 183, 193, 199, 205, 208, 214, 220, 226, 231, 237, \n",
    "         243, 249, 254]\n",
    "\n",
    "H = matrix_return(t,theta)\n",
    "x_hat_i = np.linalg.solve(np.dot(np.transpose(H),H),np.dot(np.transpose(H),y_tilde))\n",
    "print('residual error:', np.linalg.norm(y_tilde-np.dot(H,x_hat_i)))"
   ]
  },
  {
   "cell_type": "markdown",
   "metadata": {},
   "source": [
    "## Mathias own musical scale"
   ]
  },
  {
   "cell_type": "code",
   "execution_count": 4,
   "metadata": {},
   "outputs": [
    {
     "name": "stdout",
     "output_type": "stream",
     "text": [
      "residual error: 1963.530567863447\n"
     ]
    }
   ],
   "source": [
    "theta = np.arange(311.127, 311.127+311.127,311.127/27)\n",
    "H = matrix_return(t,theta)\n",
    "x_hat_ii = np.linalg.solve(np.dot(np.transpose(H),H),np.dot(np.transpose(H),y_tilde))\n",
    "print('residual error:', np.linalg.norm(y_tilde-np.dot(H,x_hat_ii)))"
   ]
  },
  {
   "cell_type": "markdown",
   "metadata": {},
   "source": [
    "## \"Fibonacci-on-steroids\" sequence"
   ]
  },
  {
   "cell_type": "code",
   "execution_count": 5,
   "metadata": {},
   "outputs": [
    {
     "name": "stdout",
     "output_type": "stream",
     "text": [
      "residual error: 9675.046427897283\n"
     ]
    }
   ],
   "source": [
    "theta = np.zeros(27)\n",
    "theta[0] = 150\n",
    "theta[1] = 175\n",
    "for i in range(25):\n",
    "    theta[i+2] = np.ceil(0.5*theta[i+1])+np.ceil(0.8*theta[i])\n",
    "H = matrix_return(t,theta)\n",
    "x_hat_iii = np.linalg.solve(np.dot(np.transpose(H),H),np.dot(np.transpose(H),y_tilde))\n",
    "print('residual error:', np.linalg.norm(y_tilde_2-np.dot(H,x_hat_iii)))"
   ]
  },
  {
   "cell_type": "markdown",
   "metadata": {},
   "source": [
    "Based on the residual error, we know \"Fibonacci-on-steroids\" sequences works the best. We find from the solution that some values are very close to zero. We round the solution and find that this solution is sparse and only $a_5$, $a_7$, $a_8$, $a_{18}$, $a_{19}$, $a_{20}$, $a_{21}$, $a_{27}$ are nonzero, these values are printed below. Therefore, the message only contains the frequency of $\\theta_5$, $\\theta_7$, $\\theta_8$, $\\theta_{18}$, $\\theta_{19}$, $\\theta_{20}$, $\\theta_{21}$, $\\theta_{27}$"
   ]
  },
  {
   "cell_type": "code",
   "execution_count": 6,
   "metadata": {},
   "outputs": [
    {
     "name": "stdout",
     "output_type": "stream",
     "text": [
      "(integer) amplitudes of existing frequencies: [2. 6. 3. 4. 1. 7. 6. 1.]\n"
     ]
    }
   ],
   "source": [
    "round_ = np.rint(x_hat_iii)\n",
    "print('(integer) amplitudes of existing frequencies:',round_[round_.nonzero()])"
   ]
  },
  {
   "cell_type": "markdown",
   "metadata": {},
   "source": [
    "# (d)\n",
    "Based on encoding rules, and to make the message meaningful, I believe the message is \"Sehr Gut\""
   ]
  },
  {
   "cell_type": "markdown",
   "metadata": {},
   "source": [
    "# (e) With CVXPY package and Lasso\n",
    "\n",
    "## Aronson's sequence"
   ]
  },
  {
   "cell_type": "code",
   "execution_count": 11,
   "metadata": {},
   "outputs": [
    {
     "name": "stdout",
     "output_type": "stream",
     "text": [
      "status: infeasible_inaccurate\n",
      "optimal value None\n",
      "optimal var None\n"
     ]
    },
    {
     "ename": "ValueError",
     "evalue": "cannot reshape array of size 1 into shape (27,1)",
     "output_type": "error",
     "traceback": [
      "\u001b[1;31m---------------------------------------------------------------------------\u001b[0m",
      "\u001b[1;31mValueError\u001b[0m                                Traceback (most recent call last)",
      "\u001b[1;32m<ipython-input-11-2f2541e11299>\u001b[0m in \u001b[0;36m<module>\u001b[1;34m\u001b[0m\n\u001b[0;32m     15\u001b[0m \u001b[0mprint\u001b[0m\u001b[1;33m(\u001b[0m\u001b[1;34m\"optimal value\"\u001b[0m\u001b[1;33m,\u001b[0m \u001b[0mprob\u001b[0m\u001b[1;33m.\u001b[0m\u001b[0mvalue\u001b[0m\u001b[1;33m)\u001b[0m\u001b[1;33m\u001b[0m\u001b[1;33m\u001b[0m\u001b[0m\n\u001b[0;32m     16\u001b[0m \u001b[0mprint\u001b[0m\u001b[1;33m(\u001b[0m\u001b[1;34m\"optimal var\"\u001b[0m\u001b[1;33m,\u001b[0m \u001b[0mx_cp\u001b[0m\u001b[1;33m.\u001b[0m\u001b[0mvalue\u001b[0m\u001b[1;33m)\u001b[0m\u001b[1;33m\u001b[0m\u001b[1;33m\u001b[0m\u001b[0m\n\u001b[1;32m---> 17\u001b[1;33m \u001b[0mprint\u001b[0m\u001b[1;33m(\u001b[0m\u001b[1;34m'residual error:'\u001b[0m\u001b[1;33m,\u001b[0m \u001b[0mnp\u001b[0m\u001b[1;33m.\u001b[0m\u001b[0mlinalg\u001b[0m\u001b[1;33m.\u001b[0m\u001b[0mnorm\u001b[0m\u001b[1;33m(\u001b[0m\u001b[0my_tilde_2\u001b[0m\u001b[1;33m-\u001b[0m\u001b[0mnp\u001b[0m\u001b[1;33m.\u001b[0m\u001b[0mdot\u001b[0m\u001b[1;33m(\u001b[0m\u001b[0mH\u001b[0m\u001b[1;33m,\u001b[0m\u001b[0mnp\u001b[0m\u001b[1;33m.\u001b[0m\u001b[0marray\u001b[0m\u001b[1;33m(\u001b[0m\u001b[0mx_cp\u001b[0m\u001b[1;33m.\u001b[0m\u001b[0mvalue\u001b[0m\u001b[1;33m)\u001b[0m\u001b[1;33m.\u001b[0m\u001b[0mreshape\u001b[0m\u001b[1;33m(\u001b[0m\u001b[1;36m27\u001b[0m\u001b[1;33m,\u001b[0m\u001b[1;36m1\u001b[0m\u001b[1;33m)\u001b[0m\u001b[1;33m)\u001b[0m\u001b[1;33m)\u001b[0m\u001b[1;33m)\u001b[0m\u001b[1;33m\u001b[0m\u001b[1;33m\u001b[0m\u001b[0m\n\u001b[0m",
      "\u001b[1;31mValueError\u001b[0m: cannot reshape array of size 1 into shape (27,1)"
     ]
    }
   ],
   "source": [
    "theta = [104, 111, 116, 122, 126, 131, 136, 142, 147, 158, 164, 169, \n",
    "         174, 181, 183, 193, 199, 205, 208, 214, 220, 226, 231, 237, \n",
    "         243, 249, 254]\n",
    "\n",
    "H = matrix_return(t,theta)\n",
    "\n",
    "lambd_value = 0.0001\n",
    "x_cp = cp.Variable(27)\n",
    "obj = cp.Minimize(cp.norm(y_tilde[:,0] - H @ x_cp)**2 + lambd_value * cp.norm(x_cp,1))\n",
    "\n",
    "prob = cp.Problem(obj)\n",
    "#prob.solve(solver=cp.SCS)\n",
    "prob.solve(obj)\n",
    "print(\"status:\", prob.status)\n",
    "print(\"optimal value\", prob.value)\n",
    "print(\"optimal var\", x_cp.value)\n",
    "print('residual error:', np.linalg.norm(y_tilde_2-np.dot(H,np.array(x_cp.value).reshape(27,1))))"
   ]
  },
  {
   "cell_type": "markdown",
   "metadata": {},
   "source": [
    "## Mathias own musical scale"
   ]
  },
  {
   "cell_type": "code",
   "execution_count": null,
   "metadata": {},
   "outputs": [],
   "source": [
    "theta = np.arange(311.127, 311.127+311.127,311.127/27)\n",
    "H = matrix_return(t,theta)\n",
    "\n",
    "lambd_value = 0.00001\n",
    "x_cp = cp.Variable(27, integer=True)\n",
    "obj = cp.Minimize(cp.norm(y_tilde_2[:,0] - H @ x_cp)**2 + lambd_value * cp.norm(x_cp,1))\n",
    "\n",
    "prob = cp.Problem(obj, [x_cp>=1])\n",
    "prob.solve(solver=cp.MOSEK)\n",
    "print(\"status:\", prob.status)\n",
    "print(\"optimal value\", prob.value)\n",
    "print(\"optimal var\", x_cp.value)\n",
    "print('residual error:', np.linalg.norm(y_tilde_2-np.dot(H,np.array(x_cp.value).reshape(27,1))))"
   ]
  },
  {
   "cell_type": "markdown",
   "metadata": {},
   "source": [
    "## \"Fibonacci-on-steroids\" sequence"
   ]
  },
  {
   "cell_type": "code",
   "execution_count": 44,
   "metadata": {
    "collapsed": true
   },
   "outputs": [
    {
     "data": {
      "text/plain": [
       "array([[-0.33173347],\n",
       "       [ 0.05680628],\n",
       "       [-0.42516628],\n",
       "       [ 0.13762933],\n",
       "       [ 0.1439599 ],\n",
       "       [ 0.06582349],\n",
       "       [ 0.35031757],\n",
       "       [ 0.22929124],\n",
       "       [-0.40681551],\n",
       "       [-0.0167118 ],\n",
       "       [-0.06901476],\n",
       "       [-0.17244492],\n",
       "       [ 0.27471442],\n",
       "       [ 0.20630256],\n",
       "       [ 0.36050138],\n",
       "       [ 0.17735724],\n",
       "       [ 0.16229146],\n",
       "       [ 0.31889703],\n",
       "       [ 0.27750422],\n",
       "       [ 0.0695776 ],\n",
       "       [ 0.11053446],\n",
       "       [ 0.08402851],\n",
       "       [ 0.14467749],\n",
       "       [-0.13855879],\n",
       "       [ 0.06976102],\n",
       "       [ 0.19401025],\n",
       "       [ 0.00589049]])"
      ]
     },
     "execution_count": 44,
     "metadata": {},
     "output_type": "execute_result"
    }
   ],
   "source": [
    "theta = np.zeros(27)\n",
    "theta[0] = 150\n",
    "theta[1] = 175\n",
    "for i in range(25):\n",
    "    theta[i+2] = np.ceil(0.5*theta[i+1])+np.ceil(0.8*theta[i])\n",
    "H = matrix_return(t,theta)\n",
    "\n",
    "lambd_value = 0.001\n",
    "x_cp = cp.Variable(27)\n",
    "obj = cp.Minimize(cp.norm(y_tilde_2[:,0] - H @ x_cp)**2 + lambd_value * cp.norm(x_cp,1))\n",
    "\n",
    "prob = cp.Problem(obj)\n",
    "prob.solve(solver=cp.SCS)\n",
    "print(\"status:\", prob.status)\n",
    "print(\"optimal value\", prob.value)\n",
    "print(\"optimal var\", x_cp.value)\n",
    "print('residual error:', np.linalg.norm(y_tilde_2-np.dot(H,np.array(x_cp.value).reshape(27,1))))"
   ]
  },
  {
   "cell_type": "code",
   "execution_count": 43,
   "metadata": {},
   "outputs": [
    {
     "data": {
      "text/plain": [
       "(27, 1)"
      ]
     },
     "execution_count": 43,
     "metadata": {},
     "output_type": "execute_result"
    }
   ],
   "source": [
    "x_hat_iii.shape"
   ]
  },
  {
   "cell_type": "code",
   "execution_count": null,
   "metadata": {},
   "outputs": [],
   "source": []
  }
 ],
 "metadata": {
  "kernelspec": {
   "display_name": "Python 3",
   "language": "python",
   "name": "python3"
  },
  "language_info": {
   "codemirror_mode": {
    "name": "ipython",
    "version": 3
   },
   "file_extension": ".py",
   "mimetype": "text/x-python",
   "name": "python",
   "nbconvert_exporter": "python",
   "pygments_lexer": "ipython3",
   "version": "3.7.1"
  }
 },
 "nbformat": 4,
 "nbformat_minor": 2
}
