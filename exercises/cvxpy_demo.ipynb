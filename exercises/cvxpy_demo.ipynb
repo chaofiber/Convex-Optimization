{
 "cells": [
  {
   "cell_type": "code",
   "execution_count": 2,
   "metadata": {
    "scrolled": true
   },
   "outputs": [
    {
     "name": "stdout",
     "output_type": "stream",
     "text": [
      "status: optimal\n",
      "optimal value 1.0\n",
      "optimal var 1.0 1.570086213240983e-22\n"
     ]
    }
   ],
   "source": [
    "import cvxpy as cp\n",
    "import numpy as np\n",
    "\n",
    "# Create two scalar optimization variables.\n",
    "x = cp.Variable()\n",
    "y = cp.Variable()\n",
    "\n",
    "# Create two constraints.\n",
    "constraints = [x + y == 1,\n",
    "x - y >= 1]\n",
    "\n",
    "# Form objective.\n",
    "obj = cp.Minimize((x - y)**2)\n",
    "\n",
    "# Form and solve problem.\n",
    "prob = cp.Problem(obj, constraints)\n",
    "prob.solve() # Returns the optimal value.\n",
    "\n",
    "print(\"status:\", prob.status)\n",
    "print(\"optimal value\", prob.value)\n",
    "print(\"optimal var\", x.value, y.value)\n"
   ]
  },
  {
   "cell_type": "code",
   "execution_count": 3,
   "metadata": {},
   "outputs": [
    {
     "name": "stdout",
     "output_type": "stream",
     "text": [
      "status: infeasible\n",
      "optimal value inf\n",
      "status: unbounded\n",
      "optimal value -inf\n"
     ]
    }
   ],
   "source": [
    "x = cp.Variable()\n",
    "\n",
    "# An infeasible problem.\n",
    "prob = cp.Problem(cp.Minimize(x), [x >= 1, x <= 0])\n",
    "prob.solve()\n",
    "\n",
    "print(\"status:\", prob.status)\n",
    "print(\"optimal value\", prob.value)\n",
    "\n",
    "# An unbounded problem.\n",
    "prob = cp.Problem(cp.Minimize(x))\n",
    "prob.solve()\n",
    "print(\"status:\", prob.status)\n",
    "print(\"optimal value\", prob.value)"
   ]
  },
  {
   "cell_type": "code",
   "execution_count": 10,
   "metadata": {},
   "outputs": [
    {
     "name": "stdout",
     "output_type": "stream",
     "text": [
      "status: optimal\n",
      "optimal value 4.141338603672535\n",
      "optimal var [-4.95922264e-21  6.07571976e-21  1.34643668e-01  1.24976681e-01\n",
      " -4.57130806e-21]\n"
     ]
    }
   ],
   "source": [
    "# Matrix variable with shape (4,7)\n",
    "# A = cp.Variable((4,7))\n",
    "\n",
    "# Solve a bounded least-square problem\n",
    "m = 10;\n",
    "n = 5;\n",
    "np.random.seed(1)\n",
    "A = np.random.randn(m,n)\n",
    "b = np.random.randn(m)\n",
    "\n",
    "# construct the problem\n",
    "x = cp.Variable(n);\n",
    "objective = cp.Minimize(cp.sum_squares(A @ x - b))\n",
    "constraints = [0<=x,x<=1]\n",
    "prob = cp.Problem(objective, constraints)\n",
    "prob.solve()\n",
    "\n",
    "print(\"status:\", prob.status)\n",
    "print(\"optimal value\", prob.value)\n",
    "print(\"optimal var\", x.value)"
   ]
  },
  {
   "cell_type": "code",
   "execution_count": null,
   "metadata": {},
   "outputs": [],
   "source": []
  }
 ],
 "metadata": {
  "kernelspec": {
   "display_name": "Python 3",
   "language": "python",
   "name": "python3"
  },
  "language_info": {
   "codemirror_mode": {
    "name": "ipython",
    "version": 3
   },
   "file_extension": ".py",
   "mimetype": "text/x-python",
   "name": "python",
   "nbconvert_exporter": "python",
   "pygments_lexer": "ipython3",
   "version": "3.7.1"
  }
 },
 "nbformat": 4,
 "nbformat_minor": 2
}
